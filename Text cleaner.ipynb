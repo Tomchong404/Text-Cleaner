{
 "cells": [
  {
   "cell_type": "markdown",
   "id": "fa2737cb",
   "metadata": {},
   "source": [
    "## Remove line break"
   ]
  },
  {
   "cell_type": "code",
   "execution_count": 37,
   "id": "adec16c6",
   "metadata": {},
   "outputs": [
    {
     "name": "stdout",
     "output_type": "stream",
     "text": [
      "Enter your sentence:Testing  123. What  what\n"
     ]
    }
   ],
   "source": [
    "text= input(\"Enter your sentence:\") "
   ]
  },
  {
   "cell_type": "code",
   "execution_count": 38,
   "id": "a1d25736",
   "metadata": {},
   "outputs": [
    {
     "name": "stdout",
     "output_type": "stream",
     "text": [
      "Testing  123. What  what\n"
     ]
    }
   ],
   "source": [
    "clean_text = text.replace('\\n', '') \n",
    "print(clean_text)"
   ]
  },
  {
   "cell_type": "markdown",
   "id": "c2f423d8",
   "metadata": {},
   "source": [
    "## Turn paragraph to point form"
   ]
  },
  {
   "cell_type": "code",
   "execution_count": 5,
   "id": "49aeca9e",
   "metadata": {},
   "outputs": [
    {
     "name": "stdout",
     "output_type": "stream",
     "text": [
      "Enter your sentence:Remove line break. Turn paragraph to point form. Compare and track changes. Text extract.\n"
     ]
    }
   ],
   "source": [
    "text= input(\"Enter your sentence:\") "
   ]
  },
  {
   "cell_type": "code",
   "execution_count": 6,
   "id": "ffa50ef6",
   "metadata": {},
   "outputs": [
    {
     "name": "stdout",
     "output_type": "stream",
     "text": [
      "•Remove line break\n",
      "•Turn paragraph to point form\n",
      "•Compare and track changes\n",
      "•Text extract\n",
      "•\n"
     ]
    }
   ],
   "source": [
    "import re\n",
    "\n",
    "points = re.split(r'\\.\\s*', text)\n",
    "\n",
    "for point in points:\n",
    "    print(\"•\" + point.strip())"
   ]
  },
  {
   "cell_type": "markdown",
   "id": "536a8234",
   "metadata": {},
   "source": [
    "## Compare and track changes"
   ]
  },
  {
   "cell_type": "code",
   "execution_count": 53,
   "id": "f8e2a5ea",
   "metadata": {},
   "outputs": [
    {
     "name": "stdout",
     "output_type": "stream",
     "text": [
      "Enter your sentence:I got school by bus\n"
     ]
    }
   ],
   "source": [
    "old_text= input(\"Enter your sentence:\") "
   ]
  },
  {
   "cell_type": "code",
   "execution_count": 55,
   "id": "80efaa17",
   "metadata": {},
   "outputs": [
    {
     "name": "stdout",
     "output_type": "stream",
     "text": [
      "Enter your new sentence:I got 123 school bus\n"
     ]
    }
   ],
   "source": [
    "new_text= input(\"Enter your new sentence:\") "
   ]
  },
  {
   "cell_type": "code",
   "execution_count": 56,
   "id": "df016944",
   "metadata": {},
   "outputs": [
    {
     "data": {
      "text/html": [
       "  I   got <ins style=\"color:green\">123</ins>   school <del style=\"color:red\">by</del>   bus"
      ],
      "text/plain": [
       "<IPython.core.display.HTML object>"
      ]
     },
     "execution_count": 56,
     "metadata": {},
     "output_type": "execute_result"
    }
   ],
   "source": [
    "import difflib\n",
    "from IPython.display import HTML\n",
    "\n",
    "def compare_text(old_text, new_text):\n",
    "    # Compare and generate the differences between the two text\n",
    "    differ = difflib.Differ()\n",
    "    diff = differ.compare(old_text.split(), new_text.split())\n",
    "    changes = []\n",
    "    # Highlight the changes through sepcified color\n",
    "    for line in diff:\n",
    "        if line.startswith('- '):\n",
    "            # Cross through and red for removed\n",
    "            changes.append('<del style=\"color:red\">' + line[2:] + '</del>')\n",
    "            # Green and underscore for new added\n",
    "        elif line.startswith('+ '):\n",
    "            changes.append('<ins style=\"color:green\">' + line[2:] + '</ins>')\n",
    "        else:\n",
    "            changes.append(line)\n",
    "    return ' '.join(changes)\n",
    "\n",
    "# Display the changes\n",
    "changes = compare_text(old_text, new_text)\n",
    "HTML(changes)"
   ]
  },
  {
   "cell_type": "markdown",
   "id": "1b84b58a",
   "metadata": {},
   "source": [
    "## Text extract"
   ]
  },
  {
   "cell_type": "code",
   "execution_count": 1,
   "id": "c0a81d17",
   "metadata": {},
   "outputs": [
    {
     "name": "stdout",
     "output_type": "stream",
     "text": [
      "Enter your sentence:Testing 123 this is testing\n"
     ]
    }
   ],
   "source": [
    "text= input(\"Enter your sentence:\") "
   ]
  },
  {
   "cell_type": "code",
   "execution_count": 2,
   "id": "e5afa3d4",
   "metadata": {},
   "outputs": [
    {
     "name": "stdout",
     "output_type": "stream",
     "text": [
      "Enter your sentence:123\n"
     ]
    }
   ],
   "source": [
    "start_condition= input(\"Enter your sentence:\") "
   ]
  },
  {
   "cell_type": "code",
   "execution_count": 3,
   "id": "d34301da",
   "metadata": {},
   "outputs": [
    {
     "name": "stdout",
     "output_type": "stream",
     "text": [
      "Enter your sentence:testing\n"
     ]
    }
   ],
   "source": [
    "end_condition = input(\"Enter your sentence:\") "
   ]
  },
  {
   "cell_type": "code",
   "execution_count": 4,
   "id": "6ecb456a",
   "metadata": {},
   "outputs": [
    {
     "name": "stdout",
     "output_type": "stream",
     "text": [
      "this is\n"
     ]
    }
   ],
   "source": [
    "import re\n",
    "\n",
    "def extract_words_between(text, start_condition, end_condition):\n",
    "    pattern = re.compile(f\"{start_condition}(.*?){end_condition}\")\n",
    "    # Use findall to get all matches\n",
    "    matches = pattern.findall(text)\n",
    "    \n",
    "    # Extract words from matches\n",
    "    words = []\n",
    "    for match in matches:\n",
    "        # Split the match into words and add them to the list\n",
    "        words.extend(match.split())\n",
    "    # Join the words into a single string\n",
    "    extracted_sentence = ' '.join(words)\n",
    "    return extracted_sentence\n",
    "\n",
    "# Example usage\n",
    "extracted_sentence = extract_words_between(text, start_condition, end_condition)\n",
    "print(extracted_sentence)\n"
   ]
  }
 ],
 "metadata": {
  "kernelspec": {
   "display_name": "Python 3 (ipykernel)",
   "language": "python",
   "name": "python3"
  },
  "language_info": {
   "codemirror_mode": {
    "name": "ipython",
    "version": 3
   },
   "file_extension": ".py",
   "mimetype": "text/x-python",
   "name": "python",
   "nbconvert_exporter": "python",
   "pygments_lexer": "ipython3",
   "version": "3.9.13"
  }
 },
 "nbformat": 4,
 "nbformat_minor": 5
}
